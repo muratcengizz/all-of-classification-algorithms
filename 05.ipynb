{
 "cells": [
  {
   "cell_type": "code",
   "execution_count": 28,
   "id": "2d2115fb-dd7a-4b46-b4c3-af7d21f1f3bd",
   "metadata": {},
   "outputs": [],
   "source": [
    "import numpy as np\n",
    "import pandas as pd\n",
    "import seaborn as sns\n",
    "import matplotlib.pyplot as plt\n",
    "from sklearn.model_selection import train_test_split, GridSearchCV, cross_val_score\n",
    "from sklearn.metrics import accuracy_score, confusion_matrix, classification_report, f1_score"
   ]
  },
  {
   "cell_type": "markdown",
   "id": "12c2c7c1-114c-4729-9a86-26032e66703c",
   "metadata": {},
   "source": [
    "### İmport ettiğimiz veri setini kendim rastgele değerler kullanarak oluşturdum. Bu yüzden veriler gerçek hayat senaryosuna uygun değildir. Bu veri setini kullanarak sınıflandırma problemlerinde kullanılan tüm algoritmaları ele alacağız."
   ]
  },
  {
   "cell_type": "code",
   "execution_count": 2,
   "id": "cd3b91dd-12e1-49c6-8c32-3ff4abc8e04a",
   "metadata": {},
   "outputs": [
    {
     "data": {
      "text/html": [
       "<div>\n",
       "<style scoped>\n",
       "    .dataframe tbody tr th:only-of-type {\n",
       "        vertical-align: middle;\n",
       "    }\n",
       "\n",
       "    .dataframe tbody tr th {\n",
       "        vertical-align: top;\n",
       "    }\n",
       "\n",
       "    .dataframe thead th {\n",
       "        text-align: right;\n",
       "    }\n",
       "</style>\n",
       "<table border=\"1\" class=\"dataframe\">\n",
       "  <thead>\n",
       "    <tr style=\"text-align: right;\">\n",
       "      <th></th>\n",
       "      <th>Müşteri ID</th>\n",
       "      <th>Yaş</th>\n",
       "      <th>Cinsiyet</th>\n",
       "      <th>Gelir Düzeyi</th>\n",
       "      <th>İnternet Kullanımı</th>\n",
       "      <th>Müşteri Terk Durumu</th>\n",
       "    </tr>\n",
       "  </thead>\n",
       "  <tbody>\n",
       "    <tr>\n",
       "      <th>0</th>\n",
       "      <td>0</td>\n",
       "      <td>18</td>\n",
       "      <td>Erkek</td>\n",
       "      <td>Düşük</td>\n",
       "      <td>Yüksek</td>\n",
       "      <td>1</td>\n",
       "    </tr>\n",
       "    <tr>\n",
       "      <th>1</th>\n",
       "      <td>1</td>\n",
       "      <td>43</td>\n",
       "      <td>Erkek</td>\n",
       "      <td>Orta</td>\n",
       "      <td>Yüksek</td>\n",
       "      <td>1</td>\n",
       "    </tr>\n",
       "    <tr>\n",
       "      <th>2</th>\n",
       "      <td>2</td>\n",
       "      <td>37</td>\n",
       "      <td>Kadın</td>\n",
       "      <td>Düşük</td>\n",
       "      <td>Yüksek</td>\n",
       "      <td>0</td>\n",
       "    </tr>\n",
       "    <tr>\n",
       "      <th>3</th>\n",
       "      <td>3</td>\n",
       "      <td>33</td>\n",
       "      <td>Erkek</td>\n",
       "      <td>Yüksek</td>\n",
       "      <td>Orta</td>\n",
       "      <td>0</td>\n",
       "    </tr>\n",
       "    <tr>\n",
       "      <th>4</th>\n",
       "      <td>4</td>\n",
       "      <td>27</td>\n",
       "      <td>Kadın</td>\n",
       "      <td>Orta</td>\n",
       "      <td>Orta</td>\n",
       "      <td>1</td>\n",
       "    </tr>\n",
       "  </tbody>\n",
       "</table>\n",
       "</div>"
      ],
      "text/plain": [
       "   Müşteri ID  Yaş Cinsiyet Gelir Düzeyi İnternet Kullanımı  \\\n",
       "0           0   18    Erkek        Düşük             Yüksek   \n",
       "1           1   43    Erkek         Orta             Yüksek   \n",
       "2           2   37    Kadın        Düşük             Yüksek   \n",
       "3           3   33    Erkek       Yüksek               Orta   \n",
       "4           4   27    Kadın         Orta               Orta   \n",
       "\n",
       "   Müşteri Terk Durumu  \n",
       "0                    1  \n",
       "1                    1  \n",
       "2                    0  \n",
       "3                    0  \n",
       "4                    1  "
      ]
     },
     "execution_count": 2,
     "metadata": {},
     "output_type": "execute_result"
    }
   ],
   "source": [
    "data = pd.read_csv('musteri_terk.csv')\n",
    "data.head()"
   ]
  },
  {
   "cell_type": "markdown",
   "id": "615d3203-2115-4516-9624-a0b4376577c8",
   "metadata": {},
   "source": [
    "#### Müşteri Terk Durumu 0: Terk Etmedi\n",
    "#### Müşteri Terk Durumu 1: Terk Etti"
   ]
  },
  {
   "cell_type": "markdown",
   "id": "30a31585-731b-42e7-8edc-ec5fea72ba29",
   "metadata": {},
   "source": [
    "# Veri Analizi"
   ]
  },
  {
   "cell_type": "code",
   "execution_count": 3,
   "id": "49d1e9bb-f885-42af-98af-8ab65d3c5659",
   "metadata": {},
   "outputs": [
    {
     "data": {
      "text/html": [
       "<div>\n",
       "<style scoped>\n",
       "    .dataframe tbody tr th:only-of-type {\n",
       "        vertical-align: middle;\n",
       "    }\n",
       "\n",
       "    .dataframe tbody tr th {\n",
       "        vertical-align: top;\n",
       "    }\n",
       "\n",
       "    .dataframe thead th {\n",
       "        text-align: right;\n",
       "    }\n",
       "</style>\n",
       "<table border=\"1\" class=\"dataframe\">\n",
       "  <thead>\n",
       "    <tr style=\"text-align: right;\">\n",
       "      <th></th>\n",
       "      <th>count</th>\n",
       "      <th>mean</th>\n",
       "      <th>std</th>\n",
       "      <th>min</th>\n",
       "      <th>25%</th>\n",
       "      <th>50%</th>\n",
       "      <th>75%</th>\n",
       "      <th>max</th>\n",
       "    </tr>\n",
       "  </thead>\n",
       "  <tbody>\n",
       "    <tr>\n",
       "      <th>Müşteri ID</th>\n",
       "      <td>500.0</td>\n",
       "      <td>249.500</td>\n",
       "      <td>144.481833</td>\n",
       "      <td>0.0</td>\n",
       "      <td>124.75</td>\n",
       "      <td>249.5</td>\n",
       "      <td>374.25</td>\n",
       "      <td>499.0</td>\n",
       "    </tr>\n",
       "    <tr>\n",
       "      <th>Yaş</th>\n",
       "      <td>500.0</td>\n",
       "      <td>30.874</td>\n",
       "      <td>7.974290</td>\n",
       "      <td>18.0</td>\n",
       "      <td>24.00</td>\n",
       "      <td>31.0</td>\n",
       "      <td>38.00</td>\n",
       "      <td>44.0</td>\n",
       "    </tr>\n",
       "    <tr>\n",
       "      <th>Müşteri Terk Durumu</th>\n",
       "      <td>500.0</td>\n",
       "      <td>0.530</td>\n",
       "      <td>0.499599</td>\n",
       "      <td>0.0</td>\n",
       "      <td>0.00</td>\n",
       "      <td>1.0</td>\n",
       "      <td>1.00</td>\n",
       "      <td>1.0</td>\n",
       "    </tr>\n",
       "  </tbody>\n",
       "</table>\n",
       "</div>"
      ],
      "text/plain": [
       "                     count     mean         std   min     25%    50%     75%  \\\n",
       "Müşteri ID           500.0  249.500  144.481833   0.0  124.75  249.5  374.25   \n",
       "Yaş                  500.0   30.874    7.974290  18.0   24.00   31.0   38.00   \n",
       "Müşteri Terk Durumu  500.0    0.530    0.499599   0.0    0.00    1.0    1.00   \n",
       "\n",
       "                       max  \n",
       "Müşteri ID           499.0  \n",
       "Yaş                   44.0  \n",
       "Müşteri Terk Durumu    1.0  "
      ]
     },
     "execution_count": 3,
     "metadata": {},
     "output_type": "execute_result"
    }
   ],
   "source": [
    "data.describe().T"
   ]
  },
  {
   "cell_type": "code",
   "execution_count": 4,
   "id": "477a1bd3-00c5-4c97-a657-5e1f122eadb2",
   "metadata": {},
   "outputs": [
    {
     "name": "stdout",
     "output_type": "stream",
     "text": [
      "<class 'pandas.core.frame.DataFrame'>\n",
      "RangeIndex: 500 entries, 0 to 499\n",
      "Data columns (total 6 columns):\n",
      " #   Column               Non-Null Count  Dtype \n",
      "---  ------               --------------  ----- \n",
      " 0   Müşteri ID           500 non-null    int64 \n",
      " 1   Yaş                  500 non-null    int64 \n",
      " 2   Cinsiyet             500 non-null    object\n",
      " 3   Gelir Düzeyi         500 non-null    object\n",
      " 4   İnternet Kullanımı   500 non-null    object\n",
      " 5   Müşteri Terk Durumu  500 non-null    int64 \n",
      "dtypes: int64(3), object(3)\n",
      "memory usage: 23.6+ KB\n"
     ]
    }
   ],
   "source": [
    "data.info()"
   ]
  },
  {
   "cell_type": "code",
   "execution_count": 5,
   "id": "1ef674e5-66b2-4bfa-bc23-1ceff42d58d6",
   "metadata": {},
   "outputs": [
    {
     "data": {
      "text/plain": [
       "Müşteri ID             20875.000000\n",
       "Yaş                       63.589303\n",
       "Müşteri Terk Durumu        0.249599\n",
       "dtype: float64"
      ]
     },
     "execution_count": 5,
     "metadata": {},
     "output_type": "execute_result"
    }
   ],
   "source": [
    "data.var(numeric_only=True)"
   ]
  },
  {
   "cell_type": "code",
   "execution_count": 6,
   "id": "8ff08c98-33fa-4edc-95bb-61bf81923a34",
   "metadata": {},
   "outputs": [
    {
     "data": {
      "text/html": [
       "<div>\n",
       "<style scoped>\n",
       "    .dataframe tbody tr th:only-of-type {\n",
       "        vertical-align: middle;\n",
       "    }\n",
       "\n",
       "    .dataframe tbody tr th {\n",
       "        vertical-align: top;\n",
       "    }\n",
       "\n",
       "    .dataframe thead th {\n",
       "        text-align: right;\n",
       "    }\n",
       "</style>\n",
       "<table border=\"1\" class=\"dataframe\">\n",
       "  <thead>\n",
       "    <tr style=\"text-align: right;\">\n",
       "      <th></th>\n",
       "      <th>Müşteri ID</th>\n",
       "      <th>Yaş</th>\n",
       "      <th>Müşteri Terk Durumu</th>\n",
       "    </tr>\n",
       "  </thead>\n",
       "  <tbody>\n",
       "    <tr>\n",
       "      <th>Müşteri ID</th>\n",
       "      <td>1.000000</td>\n",
       "      <td>0.088182</td>\n",
       "      <td>-0.042880</td>\n",
       "    </tr>\n",
       "    <tr>\n",
       "      <th>Yaş</th>\n",
       "      <td>0.088182</td>\n",
       "      <td>1.000000</td>\n",
       "      <td>0.010257</td>\n",
       "    </tr>\n",
       "    <tr>\n",
       "      <th>Müşteri Terk Durumu</th>\n",
       "      <td>-0.042880</td>\n",
       "      <td>0.010257</td>\n",
       "      <td>1.000000</td>\n",
       "    </tr>\n",
       "  </tbody>\n",
       "</table>\n",
       "</div>"
      ],
      "text/plain": [
       "                     Müşteri ID       Yaş  Müşteri Terk Durumu\n",
       "Müşteri ID             1.000000  0.088182            -0.042880\n",
       "Yaş                    0.088182  1.000000             0.010257\n",
       "Müşteri Terk Durumu   -0.042880  0.010257             1.000000"
      ]
     },
     "execution_count": 6,
     "metadata": {},
     "output_type": "execute_result"
    }
   ],
   "source": [
    "data.corr()"
   ]
  },
  {
   "cell_type": "code",
   "execution_count": 7,
   "id": "ab4864c7-5678-4ffc-a78d-b9e5da1fa645",
   "metadata": {},
   "outputs": [
    {
     "data": {
      "text/plain": [
       "0"
      ]
     },
     "execution_count": 7,
     "metadata": {},
     "output_type": "execute_result"
    }
   ],
   "source": [
    "data.isnull().any().sum()"
   ]
  },
  {
   "cell_type": "code",
   "execution_count": 8,
   "id": "95d7e077-0fa5-4077-b8c5-7a177ae5bc21",
   "metadata": {},
   "outputs": [
    {
     "data": {
      "image/png": "[encoded data removed]",
      "text/plain": [
       "<Figure size 432x288 with 1 Axes>"
      ]
     },
     "metadata": {
      "needs_background": "light"
     },
     "output_type": "display_data"
    }
   ],
   "source": [
    "sns.boxplot(data=data);"
   ]
  },
  {
   "cell_type": "markdown",
   "id": "69d1640a-6a93-4fd0-ac07-cfe8a84d5f41",
   "metadata": {},
   "source": [
    "# Veri Görselleştirme"
   ]
  },
  {
   "cell_type": "markdown",
   "id": "08457b6c-bf4a-47eb-b2b4-216f8cd87cbc",
   "metadata": {},
   "source": [
    "### Bu kısımda seaborn ve matplotlib framework 'lerini pratik edebilmek ve veri setini güzel kavrayabilmek için olabildiğince grafik oluşturacağız."
   ]
  },
  {
   "cell_type": "code",
   "execution_count": 9,
   "id": "ac994c2b-496a-453e-9929-16ab488c54e7",
   "metadata": {},
   "outputs": [
    {
     "data": {
      "image/png": "[encoded data removed]",
      "text/plain": [
       "<Figure size 432x288 with 1 Axes>"
      ]
     },
     "metadata": {
      "needs_background": "light"
     },
     "output_type": "display_data"
    }
   ],
   "source": [
    "sns.scatterplot(data=data, x='Gelir Düzeyi', y='Yaş', hue='Müşteri Terk Durumu')\n",
    "plt.title('Yaş ve Gelir Düzeyi Dağılımı')\n",
    "plt.xlabel('Gelir Düzeyi')\n",
    "plt.ylabel('Yaş')\n",
    "plt.show()"
   ]
  },
  {
   "cell_type": "code",
   "execution_count": 10,
   "id": "76a41eaa-c2cd-4ede-8b97-969350ad6861",
   "metadata": {},
   "outputs": [
    {
     "data": {
      "image/png": "[encoded data removed]",
      "text/plain": [
       "<Figure size 432x288 with 1 Axes>"
      ]
     },
     "metadata": {
      "needs_background": "light"
     },
     "output_type": "display_data"
    }
   ],
   "source": [
    "sns.histplot(data=data, x='Yaş', bins=10, hue='Müşteri Terk Durumu')\n",
    "plt.title('Yaş Dağılımı')\n",
    "plt.show()"
   ]
  },
  {
   "cell_type": "code",
   "execution_count": 11,
   "id": "b6c2f063-a0fa-4e5c-8369-952cfc74a1ed",
   "metadata": {},
   "outputs": [
    {
     "data": {
      "image/png": "[encoded data removed]",
      "text/plain": [
       "<Figure size 432x288 with 1 Axes>"
      ]
     },
     "metadata": {
      "needs_background": "light"
     },
     "output_type": "display_data"
    }
   ],
   "source": [
    "sns.violinplot(data=data, x='Gelir Düzeyi', y='Yaş', hue='Cinsiyet', split=True)\n",
    "plt.title('Gelir Düzeyine ve Cinsiyete Göre Yaş Dağılımı')\n",
    "plt.show()"
   ]
  },
  {
   "cell_type": "code",
   "execution_count": 12,
   "id": "81ca92fc-2181-4b70-94fc-437eb07f6ca1",
   "metadata": {},
   "outputs": [
    {
     "data": {
      "image/png": "[encoded data removed]",
      "text/plain": [
       "<Figure size 432x288 with 2 Axes>"
      ]
     },
     "metadata": {
      "needs_background": "light"
     },
     "output_type": "display_data"
    }
   ],
   "source": [
    "pivot_table = data.pivot_table(index='Cinsiyet', columns='Gelir Düzeyi', values='Müşteri Terk Durumu', aggfunc='mean')\n",
    "sns.heatmap(pivot_table, annot=True, cmap='coolwarm', fmt='.2f')\n",
    "plt.title('Cinsiyet ve Gelir Düzeyine Göre Müşteri Terk Oranı')\n",
    "plt.show()"
   ]
  },
  {
   "cell_type": "code",
   "execution_count": 13,
   "id": "ddb12e21-7d6a-4994-ada6-108e41c85f46",
   "metadata": {},
   "outputs": [
    {
     "data": {
      "image/png": "[encoded data removed]",
      "text/plain": [
       "<Figure size 432x288 with 1 Axes>"
      ]
     },
     "metadata": {},
     "output_type": "display_data"
    }
   ],
   "source": [
    "import networkx as nx\n",
    "graph_data = data[['Yaş', 'İnternet Kullanımı', 'Gelir Düzeyi']]\n",
    "graph = nx.from_pandas_edgelist(graph_data, source='Yaş', target='İnternet Kullanımı', edge_attr='Gelir Düzeyi')\n",
    "nx.draw(graph, with_labels=True, node_size=2000, node_color='lightblue', font_color='black')\n",
    "plt.title('Gelir Düzeyine Göre Yaş ve İnternet Kullanımı Ağı')\n",
    "plt.show()"
   ]
  },
  {
   "cell_type": "markdown",
   "id": "cbaf6355-4c21-407a-af53-bf02a5f3622a",
   "metadata": {},
   "source": [
    "# Veri Ön İşleme"
   ]
  },
  {
   "cell_type": "code",
   "execution_count": 14,
   "id": "45cf09b8-2e11-4b86-8c46-a384cbd8822f",
   "metadata": {},
   "outputs": [],
   "source": [
    "from sklearn.preprocessing import StandardScaler"
   ]
  },
  {
   "cell_type": "markdown",
   "id": "20df0f10-d5a4-4833-8296-37e3c8a88d49",
   "metadata": {},
   "source": [
    "### Bu bölümde kategorik değişkenleri numerik değişkenlere dönüştüreceğiz. Daha sonra bağımsız değişkenleri standartlaştırma işlemine tabi tutacağız. Eksik ve aykırı gözlem olmadığı için başka bir şey yapmayacağız."
   ]
  },
  {
   "cell_type": "code",
   "execution_count": 15,
   "id": "5a83c6e3-8944-436f-b39e-f1442d196d16",
   "metadata": {},
   "outputs": [
    {
     "data": {
      "text/html": [
       "<div>\n",
       "<style scoped>\n",
       "    .dataframe tbody tr th:only-of-type {\n",
       "        vertical-align: middle;\n",
       "    }\n",
       "\n",
       "    .dataframe tbody tr th {\n",
       "        vertical-align: top;\n",
       "    }\n",
       "\n",
       "    .dataframe thead th {\n",
       "        text-align: right;\n",
       "    }\n",
       "</style>\n",
       "<table border=\"1\" class=\"dataframe\">\n",
       "  <thead>\n",
       "    <tr style=\"text-align: right;\">\n",
       "      <th></th>\n",
       "      <th>Müşteri ID</th>\n",
       "      <th>Yaş</th>\n",
       "      <th>Cinsiyet</th>\n",
       "      <th>Gelir Düzeyi</th>\n",
       "      <th>İnternet Kullanımı</th>\n",
       "      <th>Müşteri Terk Durumu</th>\n",
       "    </tr>\n",
       "  </thead>\n",
       "  <tbody>\n",
       "    <tr>\n",
       "      <th>0</th>\n",
       "      <td>0</td>\n",
       "      <td>18</td>\n",
       "      <td>Erkek</td>\n",
       "      <td>Düşük</td>\n",
       "      <td>Yüksek</td>\n",
       "      <td>1</td>\n",
       "    </tr>\n",
       "    <tr>\n",
       "      <th>1</th>\n",
       "      <td>1</td>\n",
       "      <td>43</td>\n",
       "      <td>Erkek</td>\n",
       "      <td>Orta</td>\n",
       "      <td>Yüksek</td>\n",
       "      <td>1</td>\n",
       "    </tr>\n",
       "    <tr>\n",
       "      <th>2</th>\n",
       "      <td>2</td>\n",
       "      <td>37</td>\n",
       "      <td>Kadın</td>\n",
       "      <td>Düşük</td>\n",
       "      <td>Yüksek</td>\n",
       "      <td>0</td>\n",
       "    </tr>\n",
       "    <tr>\n",
       "      <th>3</th>\n",
       "      <td>3</td>\n",
       "      <td>33</td>\n",
       "      <td>Erkek</td>\n",
       "      <td>Yüksek</td>\n",
       "      <td>Orta</td>\n",
       "      <td>0</td>\n",
       "    </tr>\n",
       "    <tr>\n",
       "      <th>4</th>\n",
       "      <td>4</td>\n",
       "      <td>27</td>\n",
       "      <td>Kadın</td>\n",
       "      <td>Orta</td>\n",
       "      <td>Orta</td>\n",
       "      <td>1</td>\n",
       "    </tr>\n",
       "  </tbody>\n",
       "</table>\n",
       "</div>"
      ],
      "text/plain": [
       "   Müşteri ID  Yaş Cinsiyet Gelir Düzeyi İnternet Kullanımı  \\\n",
       "0           0   18    Erkek        Düşük             Yüksek   \n",
       "1           1   43    Erkek         Orta             Yüksek   \n",
       "2           2   37    Kadın        Düşük             Yüksek   \n",
       "3           3   33    Erkek       Yüksek               Orta   \n",
       "4           4   27    Kadın         Orta               Orta   \n",
       "\n",
       "   Müşteri Terk Durumu  \n",
       "0                    1  \n",
       "1                    1  \n",
       "2                    0  \n",
       "3                    0  \n",
       "4                    1  "
      ]
     },
     "execution_count": 15,
     "metadata": {},
     "output_type": "execute_result"
    }
   ],
   "source": [
    "data.head()"
   ]
  },
  {
   "cell_type": "code",
   "execution_count": 16,
   "id": "057bf707-f47e-4c29-8b6b-ecc762ab00e4",
   "metadata": {},
   "outputs": [],
   "source": [
    "scaler = StandardScaler()\n",
    "\n",
    "# Kategorik değişkenleri nümerik değişkenlere dönüştürelim.\n",
    "data['Cinsiyet'] = data['Cinsiyet'].map({'Erkek':1, 'Kadın':0})\n",
    "data['Gelir Düzeyi'] = data['Gelir Düzeyi'].map({'Düşük':0, 'Orta':1, 'Yüksek':2})\n",
    "data['İnternet Kullanımı'] = data['İnternet Kullanımı'].map({'Düşük':0, 'Orta':1, 'Yüksek':2})"
   ]
  },
  {
   "cell_type": "code",
   "execution_count": 17,
   "id": "38ba9a0b-cf07-442e-a37b-b2a52ecda0ac",
   "metadata": {},
   "outputs": [
    {
     "data": {
      "text/html": [
       "<div>\n",
       "<style scoped>\n",
       "    .dataframe tbody tr th:only-of-type {\n",
       "        vertical-align: middle;\n",
       "    }\n",
       "\n",
       "    .dataframe tbody tr th {\n",
       "        vertical-align: top;\n",
       "    }\n",
       "\n",
       "    .dataframe thead th {\n",
       "        text-align: right;\n",
       "    }\n",
       "</style>\n",
       "<table border=\"1\" class=\"dataframe\">\n",
       "  <thead>\n",
       "    <tr style=\"text-align: right;\">\n",
       "      <th></th>\n",
       "      <th>Müşteri ID</th>\n",
       "      <th>Yaş</th>\n",
       "      <th>Cinsiyet</th>\n",
       "      <th>Gelir Düzeyi</th>\n",
       "      <th>İnternet Kullanımı</th>\n",
       "      <th>Müşteri Terk Durumu</th>\n",
       "    </tr>\n",
       "  </thead>\n",
       "  <tbody>\n",
       "    <tr>\n",
       "      <th>0</th>\n",
       "      <td>0</td>\n",
       "      <td>18</td>\n",
       "      <td>1</td>\n",
       "      <td>0</td>\n",
       "      <td>2</td>\n",
       "      <td>1</td>\n",
       "    </tr>\n",
       "    <tr>\n",
       "      <th>1</th>\n",
       "      <td>1</td>\n",
       "      <td>43</td>\n",
       "      <td>1</td>\n",
       "      <td>1</td>\n",
       "      <td>2</td>\n",
       "      <td>1</td>\n",
       "    </tr>\n",
       "    <tr>\n",
       "      <th>2</th>\n",
       "      <td>2</td>\n",
       "      <td>37</td>\n",
       "      <td>0</td>\n",
       "      <td>0</td>\n",
       "      <td>2</td>\n",
       "      <td>0</td>\n",
       "    </tr>\n",
       "    <tr>\n",
       "      <th>3</th>\n",
       "      <td>3</td>\n",
       "      <td>33</td>\n",
       "      <td>1</td>\n",
       "      <td>2</td>\n",
       "      <td>1</td>\n",
       "      <td>0</td>\n",
       "    </tr>\n",
       "    <tr>\n",
       "      <th>4</th>\n",
       "      <td>4</td>\n",
       "      <td>27</td>\n",
       "      <td>0</td>\n",
       "      <td>1</td>\n",
       "      <td>1</td>\n",
       "      <td>1</td>\n",
       "    </tr>\n",
       "  </tbody>\n",
       "</table>\n",
       "</div>"
      ],
      "text/plain": [
       "   Müşteri ID  Yaş  Cinsiyet  Gelir Düzeyi  İnternet Kullanımı  \\\n",
       "0           0   18         1             0                   2   \n",
       "1           1   43         1             1                   2   \n",
       "2           2   37         0             0                   2   \n",
       "3           3   33         1             2                   1   \n",
       "4           4   27         0             1                   1   \n",
       "\n",
       "   Müşteri Terk Durumu  \n",
       "0                    1  \n",
       "1                    1  \n",
       "2                    0  \n",
       "3                    0  \n",
       "4                    1  "
      ]
     },
     "execution_count": 17,
     "metadata": {},
     "output_type": "execute_result"
    }
   ],
   "source": [
    "data.head()"
   ]
  },
  {
   "cell_type": "code",
   "execution_count": 18,
   "id": "b518694c-2f21-4bcc-8307-fbe7c95eb041",
   "metadata": {},
   "outputs": [],
   "source": [
    "# Değişkenler üzerinde standartlaştırma işlemi yapalım.\n",
    "data['Cinsiyet'] = scaler.fit_transform(data[['Cinsiyet']].values.reshape(-1, 1))\n",
    "data['Gelir Düzeyi'] = scaler.fit_transform(data[['Gelir Düzeyi']].values.reshape(-1, 1))\n",
    "data['İnternet Kullanımı'] = scaler.fit_transform(data[['İnternet Kullanımı']].values.reshape(-1, 1))\n",
    "data['Yaş'] = scaler.fit_transform(data[['İnternet Kullanımı']].values.reshape(-1, 1))"
   ]
  },
  {
   "cell_type": "code",
   "execution_count": 19,
   "id": "b7f979ac-bbf6-4c2c-942d-a1073b4b3195",
   "metadata": {},
   "outputs": [
    {
     "data": {
      "text/html": [
       "<div>\n",
       "<style scoped>\n",
       "    .dataframe tbody tr th:only-of-type {\n",
       "        vertical-align: middle;\n",
       "    }\n",
       "\n",
       "    .dataframe tbody tr th {\n",
       "        vertical-align: top;\n",
       "    }\n",
       "\n",
       "    .dataframe thead th {\n",
       "        text-align: right;\n",
       "    }\n",
       "</style>\n",
       "<table border=\"1\" class=\"dataframe\">\n",
       "  <thead>\n",
       "    <tr style=\"text-align: right;\">\n",
       "      <th></th>\n",
       "      <th>Müşteri ID</th>\n",
       "      <th>Yaş</th>\n",
       "      <th>Cinsiyet</th>\n",
       "      <th>Gelir Düzeyi</th>\n",
       "      <th>İnternet Kullanımı</th>\n",
       "      <th>Müşteri Terk Durumu</th>\n",
       "    </tr>\n",
       "  </thead>\n",
       "  <tbody>\n",
       "    <tr>\n",
       "      <th>0</th>\n",
       "      <td>0</td>\n",
       "      <td>1.186724</td>\n",
       "      <td>1.045012</td>\n",
       "      <td>-1.177660</td>\n",
       "      <td>1.186724</td>\n",
       "      <td>1</td>\n",
       "    </tr>\n",
       "    <tr>\n",
       "      <th>1</th>\n",
       "      <td>1</td>\n",
       "      <td>1.186724</td>\n",
       "      <td>1.045012</td>\n",
       "      <td>0.041450</td>\n",
       "      <td>1.186724</td>\n",
       "      <td>1</td>\n",
       "    </tr>\n",
       "    <tr>\n",
       "      <th>2</th>\n",
       "      <td>2</td>\n",
       "      <td>1.186724</td>\n",
       "      <td>-0.956927</td>\n",
       "      <td>-1.177660</td>\n",
       "      <td>1.186724</td>\n",
       "      <td>0</td>\n",
       "    </tr>\n",
       "    <tr>\n",
       "      <th>3</th>\n",
       "      <td>3</td>\n",
       "      <td>-0.049447</td>\n",
       "      <td>1.045012</td>\n",
       "      <td>1.260559</td>\n",
       "      <td>-0.049447</td>\n",
       "      <td>0</td>\n",
       "    </tr>\n",
       "    <tr>\n",
       "      <th>4</th>\n",
       "      <td>4</td>\n",
       "      <td>-0.049447</td>\n",
       "      <td>-0.956927</td>\n",
       "      <td>0.041450</td>\n",
       "      <td>-0.049447</td>\n",
       "      <td>1</td>\n",
       "    </tr>\n",
       "  </tbody>\n",
       "</table>\n",
       "</div>"
      ],
      "text/plain": [
       "   Müşteri ID       Yaş  Cinsiyet  Gelir Düzeyi  İnternet Kullanımı  \\\n",
       "0           0  1.186724  1.045012     -1.177660            1.186724   \n",
       "1           1  1.186724  1.045012      0.041450            1.186724   \n",
       "2           2  1.186724 -0.956927     -1.177660            1.186724   \n",
       "3           3 -0.049447  1.045012      1.260559           -0.049447   \n",
       "4           4 -0.049447 -0.956927      0.041450           -0.049447   \n",
       "\n",
       "   Müşteri Terk Durumu  \n",
       "0                    1  \n",
       "1                    1  \n",
       "2                    0  \n",
       "3                    0  \n",
       "4                    1  "
      ]
     },
     "execution_count": 19,
     "metadata": {},
     "output_type": "execute_result"
    }
   ],
   "source": [
    "data.head()"
   ]
  },
  {
   "cell_type": "markdown",
   "id": "6e785919-1293-4677-9acf-bf4b8903a3b7",
   "metadata": {},
   "source": [
    "# Model İşlemleri"
   ]
  },
  {
   "cell_type": "code",
   "execution_count": 22,
   "id": "ef6a62ca-9968-42d0-8aa2-8e006fafebce",
   "metadata": {},
   "outputs": [],
   "source": [
    "# Bağımlı ve Bağımsız Değişkenleri Oluşturalım.\n",
    "X = data.drop(['Müşteri ID', 'Müşteri Terk Durumu'], axis=1)\n",
    "y = data['Müşteri Terk Durumu']"
   ]
  },
  {
   "cell_type": "code",
   "execution_count": 25,
   "id": "089bfa60-1c0e-443c-936f-49b970870575",
   "metadata": {},
   "outputs": [],
   "source": [
    "# Eğitim ve test setlerini ayıralım.\n",
    "X_train, X_test, y_train, y_test = train_test_split(X, y, test_size=0.2, random_state=42)"
   ]
  },
  {
   "cell_type": "code",
   "execution_count": 73,
   "id": "87a88eed-041a-44a9-9f6b-747252e6f2a0",
   "metadata": {},
   "outputs": [],
   "source": [
    "#---------------------------------------------------------------------------------------------"
   ]
  },
  {
   "cell_type": "markdown",
   "id": "6434101b-87a1-45b8-a339-8fdfbadf5e03",
   "metadata": {},
   "source": [
    "## Logistic Regression"
   ]
  },
  {
   "cell_type": "code",
   "execution_count": 68,
   "id": "fcac08a6-02fa-49c5-9ce9-09ca5dd7a0b0",
   "metadata": {},
   "outputs": [],
   "source": [
    "from sklearn.linear_model import LogisticRegression"
   ]
  },
  {
   "cell_type": "code",
   "execution_count": 69,
   "id": "7082405d-3e63-4cd0-a744-82da190cb714",
   "metadata": {},
   "outputs": [
    {
     "name": "stdout",
     "output_type": "stream",
     "text": [
      "Accuracy Score:  0.51\n",
      "F1-Score:  0.6474820143884893\n",
      "Confusion Matrix:\n",
      " [[ 6 38]\n",
      " [11 45]]\n"
     ]
    }
   ],
   "source": [
    "# Modeli Oluşturalım ve eğitelim.\n",
    "lr_model = LogisticRegression().fit(X_train, y_train)\n",
    "\n",
    "# Tahmin yapalım.\n",
    "lr_pred = lr_model.predict(X_test)\n",
    "\n",
    "# Modeli değerlendirelim.\n",
    "accuracy = accuracy_score(y_test, lr_pred)\n",
    "f1 = f1_score(y_test, lr_pred)\n",
    "confusion = confusion_matrix(y_test, lr_pred)\n",
    "\n",
    "print('Accuracy Score: ', accuracy)\n",
    "print('F1-Score: ', f1)\n",
    "print('Confusion Matrix:\\n', confusion)"
   ]
  },
  {
   "cell_type": "code",
   "execution_count": 70,
   "id": "17688e7f-15fe-46c7-9282-ac68bb76576a",
   "metadata": {},
   "outputs": [
    {
     "data": {
      "text/plain": [
       "{'C': 1.0,\n",
       " 'class_weight': None,\n",
       " 'dual': False,\n",
       " 'fit_intercept': True,\n",
       " 'intercept_scaling': 1,\n",
       " 'l1_ratio': None,\n",
       " 'max_iter': 100,\n",
       " 'multi_class': 'auto',\n",
       " 'n_jobs': None,\n",
       " 'penalty': 'l2',\n",
       " 'random_state': None,\n",
       " 'solver': 'lbfgs',\n",
       " 'tol': 0.0001,\n",
       " 'verbose': 0,\n",
       " 'warm_start': False}"
      ]
     },
     "execution_count": 70,
     "metadata": {},
     "output_type": "execute_result"
    }
   ],
   "source": [
    "lr_model.get_params()"
   ]
  },
  {
   "cell_type": "code",
   "execution_count": 71,
   "id": "a57f7bce-0f7f-4712-b8c3-9af0d1595ddf",
   "metadata": {},
   "outputs": [
    {
     "name": "stdout",
     "output_type": "stream",
     "text": [
      "Scores:  [0.6  0.44 0.5  0.54 0.6  0.46 0.52 0.48 0.52 0.56]\n",
      "Mean of Scores:  0.522\n"
     ]
    }
   ],
   "source": [
    "# Model Doğrulama\n",
    "scores = cross_val_score(lr_model, X, y, cv=10)\n",
    "print('Scores: ', scores)\n",
    "print('Mean of Scores: ', scores.mean())"
   ]
  },
  {
   "cell_type": "code",
   "execution_count": 72,
   "id": "e6eab322-0fa1-4911-bcdb-c995272bee75",
   "metadata": {},
   "outputs": [],
   "source": [
    "#---------------------------------------------------------------------------"
   ]
  },
  {
   "cell_type": "markdown",
   "id": "c401ff26-3132-47e6-8ca4-969cf880b14c",
   "metadata": {},
   "source": [
    "## Classifier and Regressor Tress (CART)"
   ]
  },
  {
   "cell_type": "code",
   "execution_count": 20,
   "id": "67222a6d-58eb-4430-9239-e3f797e7bc9f",
   "metadata": {},
   "outputs": [],
   "source": [
    "from sklearn.tree import DecisionTreeClassifier"
   ]
  },
  {
   "cell_type": "code",
   "execution_count": 31,
   "id": "6566c46c-dbe0-46a8-b57c-ab450388b44c",
   "metadata": {},
   "outputs": [
    {
     "name": "stdout",
     "output_type": "stream",
     "text": [
      "Accuracy Score:  0.51\n",
      "F1-Score:  0.5882352941176471\n",
      "Confusion Matrix:\n",
      " [[16 28]\n",
      " [21 35]]\n"
     ]
    }
   ],
   "source": [
    "# Modeli Oluşturalım ve Eğitelim.\n",
    "cart_model = DecisionTreeClassifier().fit(X_train, y_train)\n",
    "\n",
    "# Tahmin Yapalım.\n",
    "cart_pred = cart_model.predict(X_test)\n",
    "\n",
    "# Modeli Değerlendirelim.\n",
    "accuracy = accuracy_score(y_test, cart_pred)\n",
    "confusion = confusion_matrix(y_test, cart_pred)\n",
    "f1 = f1_score(y_test, cart_pred)\n",
    "\n",
    "print('Accuracy Score: ', accuracy)\n",
    "print('F1-Score: ', f1)\n",
    "print('Confusion Matrix:\\n', confusion)"
   ]
  },
  {
   "cell_type": "code",
   "execution_count": 33,
   "id": "3459388d-26c6-4039-9fe5-698a2522f693",
   "metadata": {},
   "outputs": [
    {
     "data": {
      "text/plain": [
       "{'ccp_alpha': 0.0,\n",
       " 'class_weight': None,\n",
       " 'criterion': 'gini',\n",
       " 'max_depth': None,\n",
       " 'max_features': None,\n",
       " 'max_leaf_nodes': None,\n",
       " 'min_impurity_decrease': 0.0,\n",
       " 'min_samples_leaf': 1,\n",
       " 'min_samples_split': 2,\n",
       " 'min_weight_fraction_leaf': 0.0,\n",
       " 'random_state': None,\n",
       " 'splitter': 'best'}"
      ]
     },
     "execution_count": 33,
     "metadata": {},
     "output_type": "execute_result"
    }
   ],
   "source": [
    "cart_model.get_params()"
   ]
  },
  {
   "cell_type": "code",
   "execution_count": 34,
   "id": "bd449113-2e47-4c66-8960-3db9d11c3698",
   "metadata": {},
   "outputs": [
    {
     "name": "stdout",
     "output_type": "stream",
     "text": [
      "Scores:  [0.51 0.52 0.53 0.5  0.5 ]\n",
      "Mean of Scores:  0.512\n"
     ]
    }
   ],
   "source": [
    "# Model Doğrulama\n",
    "scores = cross_val_score(cart_model, X, y, cv=5)\n",
    "print('Scores: ', scores)\n",
    "print('Mean of Scores: ', scores.mean())"
   ]
  },
  {
   "cell_type": "code",
   "execution_count": 35,
   "id": "28bbcfe9-31b6-4c09-9ec4-f3a3a1488c33",
   "metadata": {},
   "outputs": [
    {
     "data": {
      "image/png": "[encoded data removed]",
      "text/plain": [
       "<Figure size 432x288 with 1 Axes>"
      ]
     },
     "metadata": {
      "needs_background": "light"
     },
     "output_type": "display_data"
    }
   ],
   "source": [
    "plt.scatter(range(len(y_test)), y_test, c='b', label='Gerçek Değerler')\n",
    "plt.scatter(range(len(cart_pred)), cart_pred, c='r', label='Tahmin Edilen Değerler')\n",
    "plt.title('Gerçek ve Tahmin Edilen Değerler')\n",
    "plt.xlabel('Örnekler')\n",
    "plt.ylabel('Sınıf Etiketleri')\n",
    "plt.legend()\n",
    "plt.show()"
   ]
  },
  {
   "cell_type": "code",
   "execution_count": 36,
   "id": "83b6993c-cc65-42b2-ac46-e91d219231cf",
   "metadata": {},
   "outputs": [
    {
     "data": {
      "image/png": "[encoded data removed]",
      "text/plain": [
       "<Figure size 432x288 with 2 Axes>"
      ]
     },
     "metadata": {
      "needs_background": "light"
     },
     "output_type": "display_data"
    }
   ],
   "source": [
    "plt.imshow(confusion, interpolation='nearest', cmap=plt.cm.Blues)\n",
    "plt.colorbar()\n",
    "plt.xticks(np.arange(len([1, 0])), [1, 0], rotation=45)\n",
    "plt.yticks(np.arange(len([1, 0])), [1, 0])\n",
    "plt.xlabel('Tahmin Edilen Değerler')\n",
    "plt.ylabel('Gerçek Değerler')\n",
    "plt.title('Karışıklık Matrisi')\n",
    "plt.show()"
   ]
  },
  {
   "cell_type": "code",
   "execution_count": 74,
   "id": "245b52d9-d738-46a7-9051-37671ae64669",
   "metadata": {},
   "outputs": [],
   "source": [
    "#---------------------------------------------------------------------------------------"
   ]
  },
  {
   "cell_type": "markdown",
   "id": "b7aa0325-1a97-49a2-93ac-a49a16482e78",
   "metadata": {},
   "source": [
    "## Random Forest Classifier (RF)"
   ]
  },
  {
   "cell_type": "code",
   "execution_count": 44,
   "id": "137c59e4-38f8-480b-b540-66ca35186f1b",
   "metadata": {},
   "outputs": [],
   "source": [
    "from sklearn.ensemble import RandomForestClassifier"
   ]
  },
  {
   "cell_type": "code",
   "execution_count": 45,
   "id": "822e16d4-8742-4562-accb-6bcfce85eb91",
   "metadata": {},
   "outputs": [
    {
     "name": "stdout",
     "output_type": "stream",
     "text": [
      "Accuracy Score:  0.54\n",
      "F1-Score:  0.6229508196721312\n",
      "Confusion Matrix:\n",
      " [[16 28]\n",
      " [18 38]]\n"
     ]
    }
   ],
   "source": [
    "# Modeli Oluşturalım ve Eğitelim.\n",
    "rf_model = RandomForestClassifier().fit(X_train, y_train)\n",
    "\n",
    "# Tahmin Yapalım.\n",
    "rf_pred = rf_model.predict(X_test)\n",
    "\n",
    "# Modeli Değerlendirelim.\n",
    "accuracy = accuracy_score(y_test, rf_pred)\n",
    "f1 = f1_score(y_test, rf_pred)\n",
    "confusion = confusion_matrix(y_test, rf_pred)\n",
    "\n",
    "print('Accuracy Score: ', accuracy)\n",
    "print('F1-Score: ', f1)\n",
    "print('Confusion Matrix:\\n', confusion)"
   ]
  },
  {
   "cell_type": "code",
   "execution_count": 46,
   "id": "7fe020bf-0ef3-4b67-90c0-251b0954897a",
   "metadata": {},
   "outputs": [
    {
     "data": {
      "text/plain": [
       "{'bootstrap': True,\n",
       " 'ccp_alpha': 0.0,\n",
       " 'class_weight': None,\n",
       " 'criterion': 'gini',\n",
       " 'max_depth': None,\n",
       " 'max_features': 'auto',\n",
       " 'max_leaf_nodes': None,\n",
       " 'max_samples': None,\n",
       " 'min_impurity_decrease': 0.0,\n",
       " 'min_samples_leaf': 1,\n",
       " 'min_samples_split': 2,\n",
       " 'min_weight_fraction_leaf': 0.0,\n",
       " 'n_estimators': 100,\n",
       " 'n_jobs': None,\n",
       " 'oob_score': False,\n",
       " 'random_state': None,\n",
       " 'verbose': 0,\n",
       " 'warm_start': False}"
      ]
     },
     "execution_count": 46,
     "metadata": {},
     "output_type": "execute_result"
    }
   ],
   "source": [
    "rf_model.get_params()"
   ]
  },
  {
   "cell_type": "code",
   "execution_count": 47,
   "id": "9b282ba6-e86e-4667-b5d1-88a28cd51088",
   "metadata": {},
   "outputs": [
    {
     "name": "stdout",
     "output_type": "stream",
     "text": [
      "Scores:  [0.5  0.62 0.5  0.54 0.64 0.58 0.54 0.54 0.56 0.52]\n",
      "Mean of Scores:  0.5539999999999999\n"
     ]
    }
   ],
   "source": [
    "# Model Doğrulama\n",
    "scores = cross_val_score(rf_model, X, y, cv=10)\n",
    "print('Scores: ', scores)\n",
    "print('Mean of Scores: ', scores.mean())"
   ]
  },
  {
   "cell_type": "code",
   "execution_count": 75,
   "id": "4aca9360-438b-42c9-9fc7-601afab4f7f7",
   "metadata": {},
   "outputs": [],
   "source": [
    "# ----------------------------------------------------------------------------------"
   ]
  },
  {
   "cell_type": "markdown",
   "id": "6fa5c3de-7a47-458b-857b-36ca7e8368e7",
   "metadata": {},
   "source": [
    "## Gradient Boosting Machine Classifier (GBM)"
   ]
  },
  {
   "cell_type": "code",
   "execution_count": 52,
   "id": "98c911fe-f417-4836-b399-4dbe8f54d9a2",
   "metadata": {},
   "outputs": [],
   "source": [
    "from sklearn.ensemble import GradientBoostingClassifier"
   ]
  },
  {
   "cell_type": "code",
   "execution_count": 53,
   "id": "a150e603-e8ee-4284-926b-607472572acf",
   "metadata": {},
   "outputs": [
    {
     "name": "stdout",
     "output_type": "stream",
     "text": [
      "Accuracy Score:  0.54\n",
      "F1-Score:  0.6229508196721312\n",
      "Confusion Matrix:\n",
      " [[16 28]\n",
      " [18 38]]\n"
     ]
    }
   ],
   "source": [
    "# Model oluşturalım ve eğitelim.\n",
    "gbm_model = GradientBoostingClassifier().fit(X_train, y_train)\n",
    "\n",
    "# Tahmin yapalım.\n",
    "gbm_pred = gbm_model.predict(X_test)\n",
    "\n",
    "# Modeli değerlendirelim.\n",
    "accuracy = accuracy_score(y_test, gbm_pred)\n",
    "f1 = f1_score(y_test, gbm_pred)\n",
    "confusion = confusion_matrix(y_test, gbm_pred)\n",
    "\n",
    "print('Accuracy Score: ', accuracy)\n",
    "print('F1-Score: ', f1)\n",
    "print('Confusion Matrix:\\n', confusion)"
   ]
  },
  {
   "cell_type": "code",
   "execution_count": 54,
   "id": "fe78ee3f-a054-4cf0-acb0-63aee35ad79f",
   "metadata": {},
   "outputs": [
    {
     "data": {
      "text/plain": [
       "{'ccp_alpha': 0.0,\n",
       " 'criterion': 'friedman_mse',\n",
       " 'init': None,\n",
       " 'learning_rate': 0.1,\n",
       " 'loss': 'deviance',\n",
       " 'max_depth': 3,\n",
       " 'max_features': None,\n",
       " 'max_leaf_nodes': None,\n",
       " 'min_impurity_decrease': 0.0,\n",
       " 'min_samples_leaf': 1,\n",
       " 'min_samples_split': 2,\n",
       " 'min_weight_fraction_leaf': 0.0,\n",
       " 'n_estimators': 100,\n",
       " 'n_iter_no_change': None,\n",
       " 'random_state': None,\n",
       " 'subsample': 1.0,\n",
       " 'tol': 0.0001,\n",
       " 'validation_fraction': 0.1,\n",
       " 'verbose': 0,\n",
       " 'warm_start': False}"
      ]
     },
     "execution_count": 54,
     "metadata": {},
     "output_type": "execute_result"
    }
   ],
   "source": [
    "gbm_model.get_params()"
   ]
  },
  {
   "cell_type": "code",
   "execution_count": 55,
   "id": "f6d8347d-cf27-4095-93e3-c1d010d8c754",
   "metadata": {},
   "outputs": [
    {
     "name": "stdout",
     "output_type": "stream",
     "text": [
      "Scores:  [0.48 0.58 0.48 0.54 0.68 0.58 0.54 0.52 0.54 0.52]\n",
      "Mean of Scores:  0.546\n"
     ]
    }
   ],
   "source": [
    "# Model Doğrulama\n",
    "scores = cross_val_score(gbm_model, X, y, cv=10)\n",
    "print('Scores: ', scores)\n",
    "print('Mean of Scores: ', scores.mean())"
   ]
  },
  {
   "cell_type": "code",
   "execution_count": 76,
   "id": "9cfbed00-db2b-4c95-a498-c2c1b11727ab",
   "metadata": {},
   "outputs": [],
   "source": [
    "# -----------------------------------------------------------------------------------"
   ]
  },
  {
   "cell_type": "markdown",
   "id": "2cecacce-b1bc-428e-bfc8-6e55f484047e",
   "metadata": {},
   "source": [
    "## Extreme Gradient Boosting Machines (XGB)"
   ]
  },
  {
   "cell_type": "code",
   "execution_count": 56,
   "id": "7299fbcc-641f-48e5-bb65-c5446a5e0fc6",
   "metadata": {},
   "outputs": [],
   "source": [
    "from xgboost import  XGBClassifier"
   ]
  },
  {
   "cell_type": "code",
   "execution_count": 57,
   "id": "3e8b924b-6f5c-4d2b-a01d-1bf2809858bb",
   "metadata": {},
   "outputs": [
    {
     "name": "stdout",
     "output_type": "stream",
     "text": [
      "Accuracy Score:  0.54\n",
      "F1-Score:  0.6229508196721312\n",
      "Confusion Matrix:\n",
      " [[16 28]\n",
      " [18 38]]\n"
     ]
    }
   ],
   "source": [
    "# Modeli oluşturalım ve eğitelim.\n",
    "xgb_model = XGBClassifier().fit(X_train, y_train)\n",
    "\n",
    "# Tahmin yapalım.\n",
    "xgb_pred = xgb_model.predict(X_test)\n",
    "\n",
    "# Modeli değerlendirelim.\n",
    "accuracy = accuracy_score(y_test, xgb_pred)\n",
    "f1 = f1_score(y_test, xgb_pred)\n",
    "confusion = confusion_matrix(y_test, xgb_pred)\n",
    "\n",
    "print('Accuracy Score: ', accuracy)\n",
    "print('F1-Score: ', f1)\n",
    "print('Confusion Matrix:\\n', confusion)"
   ]
  },
  {
   "cell_type": "code",
   "execution_count": 58,
   "id": "16f380f4-47d6-4b4a-92b5-78e70b999884",
   "metadata": {},
   "outputs": [
    {
     "data": {
      "text/plain": [
       "{'objective': 'binary:logistic',\n",
       " 'use_label_encoder': None,\n",
       " 'base_score': None,\n",
       " 'booster': None,\n",
       " 'callbacks': None,\n",
       " 'colsample_bylevel': None,\n",
       " 'colsample_bynode': None,\n",
       " 'colsample_bytree': None,\n",
       " 'early_stopping_rounds': None,\n",
       " 'enable_categorical': False,\n",
       " 'eval_metric': None,\n",
       " 'feature_types': None,\n",
       " 'gamma': None,\n",
       " 'gpu_id': None,\n",
       " 'grow_policy': None,\n",
       " 'importance_type': None,\n",
       " 'interaction_constraints': None,\n",
       " 'learning_rate': None,\n",
       " 'max_bin': None,\n",
       " 'max_cat_threshold': None,\n",
       " 'max_cat_to_onehot': None,\n",
       " 'max_delta_step': None,\n",
       " 'max_depth': None,\n",
       " 'max_leaves': None,\n",
       " 'min_child_weight': None,\n",
       " 'missing': nan,\n",
       " 'monotone_constraints': None,\n",
       " 'n_estimators': 100,\n",
       " 'n_jobs': None,\n",
       " 'num_parallel_tree': None,\n",
       " 'predictor': None,\n",
       " 'random_state': None,\n",
       " 'reg_alpha': None,\n",
       " 'reg_lambda': None,\n",
       " 'sampling_method': None,\n",
       " 'scale_pos_weight': None,\n",
       " 'subsample': None,\n",
       " 'tree_method': None,\n",
       " 'validate_parameters': None,\n",
       " 'verbosity': None}"
      ]
     },
     "execution_count": 58,
     "metadata": {},
     "output_type": "execute_result"
    }
   ],
   "source": [
    "xgb_model.get_params()"
   ]
  },
  {
   "cell_type": "code",
   "execution_count": 59,
   "id": "87417907-d418-4bb8-b38e-a809706ead1b",
   "metadata": {},
   "outputs": [
    {
     "name": "stdout",
     "output_type": "stream",
     "text": [
      "Scores:  [0.5  0.58 0.48 0.54 0.62 0.58 0.52 0.52 0.56 0.46]\n",
      "Mean of Scores:  0.536\n"
     ]
    }
   ],
   "source": [
    "# Model Doğrulama\n",
    "scores = cross_val_score(xgb_model, X, y, cv=10)\n",
    "print('Scores: ', scores)\n",
    "print('Mean of Scores: ', scores.mean())"
   ]
  },
  {
   "cell_type": "code",
   "execution_count": 77,
   "id": "595f324c-77a4-40b4-b53e-2ef0eb73d553",
   "metadata": {},
   "outputs": [],
   "source": [
    "# -------------------------------------------------------------------------------"
   ]
  },
  {
   "cell_type": "markdown",
   "id": "52bd7bd3-5d42-4870-b693-47dd010f339e",
   "metadata": {},
   "source": [
    "## Light Gradient Boosting Machines (LGB)"
   ]
  },
  {
   "cell_type": "code",
   "execution_count": 60,
   "id": "cc4a2adc-0381-40ff-ab4c-67e8e620bce6",
   "metadata": {},
   "outputs": [],
   "source": [
    "from lightgbm import LGBMClassifier"
   ]
  },
  {
   "cell_type": "code",
   "execution_count": 62,
   "id": "c0712750-80bc-4836-8fa9-c1512ddaaff0",
   "metadata": {},
   "outputs": [
    {
     "name": "stdout",
     "output_type": "stream",
     "text": [
      "Accuracy Score:  0.54\n",
      "F1-Score:  0.6229508196721312\n",
      "Confusion Matrix:\n",
      " [[16 28]\n",
      " [18 38]]\n"
     ]
    }
   ],
   "source": [
    "# Modeli oluşturalım ve eğitelim.\n",
    "lgbm_model = LGBMClassifier().fit(X_train, y_train)\n",
    "\n",
    "# Tahmin yapalım.\n",
    "lgbm_pred = lgbm_model.predict(X_test)\n",
    "\n",
    "# Modeli değerlendirelim.\n",
    "accuracy = accuracy_score(y_test, lgbm_pred)\n",
    "f1 = f1_score(y_test, lgbm_pred)\n",
    "confusion = confusion_matrix(y_test, lgbm_pred)\n",
    "\n",
    "print('Accuracy Score: ', accuracy)\n",
    "print('F1-Score: ', f1)\n",
    "print('Confusion Matrix:\\n', confusion)"
   ]
  },
  {
   "cell_type": "code",
   "execution_count": 63,
   "id": "c92c6992-b5d2-4fc2-8441-0d1e75f39c59",
   "metadata": {},
   "outputs": [
    {
     "data": {
      "text/plain": [
       "{'boosting_type': 'gbdt',\n",
       " 'class_weight': None,\n",
       " 'colsample_bytree': 1.0,\n",
       " 'importance_type': 'split',\n",
       " 'learning_rate': 0.1,\n",
       " 'max_depth': -1,\n",
       " 'min_child_samples': 20,\n",
       " 'min_child_weight': 0.001,\n",
       " 'min_split_gain': 0.0,\n",
       " 'n_estimators': 100,\n",
       " 'n_jobs': -1,\n",
       " 'num_leaves': 31,\n",
       " 'objective': None,\n",
       " 'random_state': None,\n",
       " 'reg_alpha': 0.0,\n",
       " 'reg_lambda': 0.0,\n",
       " 'silent': 'warn',\n",
       " 'subsample': 1.0,\n",
       " 'subsample_for_bin': 200000,\n",
       " 'subsample_freq': 0}"
      ]
     },
     "execution_count": 63,
     "metadata": {},
     "output_type": "execute_result"
    }
   ],
   "source": [
    "lgbm_model.get_params()"
   ]
  },
  {
   "cell_type": "code",
   "execution_count": 64,
   "id": "29de1f10-e5b7-4bc3-9fd1-ee89ff8970d3",
   "metadata": {},
   "outputs": [
    {
     "name": "stdout",
     "output_type": "stream",
     "text": [
      "Scores:  [0.5  0.62 0.48 0.54 0.62 0.58 0.52 0.52 0.56 0.46]\n",
      "Mean of Scores:  0.5400000000000001\n"
     ]
    }
   ],
   "source": [
    "# Model Doğrulama\n",
    "scores = cross_val_score(lgbm_model, X, y, cv=10)\n",
    "print('Scores: ', scores)\n",
    "print('Mean of Scores: ', scores.mean())"
   ]
  },
  {
   "cell_type": "code",
   "execution_count": 78,
   "id": "d6a26c8c-2d3d-4bed-8537-db72c5c7ff51",
   "metadata": {},
   "outputs": [],
   "source": [
    "# -----------------------------------------------------------------------------"
   ]
  },
  {
   "cell_type": "markdown",
   "id": "3195328c-d7be-4dc6-9b18-465a0e2483d1",
   "metadata": {},
   "source": [
    "## Cat Boost"
   ]
  },
  {
   "cell_type": "code",
   "execution_count": 65,
   "id": "5f9e4b66-3721-4e95-a3d0-982ac96fe8d8",
   "metadata": {},
   "outputs": [],
   "source": [
    "from catboost import CatBoostClassifier"
   ]
  },
  {
   "cell_type": "code",
   "execution_count": 67,
   "id": "a7688734-9ff3-40c4-9c3e-4ee5659271c3",
   "metadata": {
    "tags": []
   },
   "outputs": [
    {
     "name": "stdout",
     "output_type": "stream",
     "text": [
      "Accuracy Score:  0.54\n",
      "F1-Score:  0.6229508196721312\n",
      "Confusion Matrix:\n",
      " [[16 28]\n",
      " [18 38]]\n"
     ]
    }
   ],
   "source": [
    "# Modeli oluşturalım ve eğitelim.\n",
    "cb_model = CatBoostClassifier().fit(X_train, y_train, verbose=False)\n",
    "\n",
    "# Tahmin yapalım.\n",
    "cb_pred = cb_model.predict(X_test)\n",
    "\n",
    "# Modeli değerlendirelim.\n",
    "accuracy = accuracy_score(y_test, cb_pred)\n",
    "f1 = f1_score(y_test, cb_pred)\n",
    "confusion = confusion_matrix(y_test, cb_pred)\n",
    "\n",
    "print('Accuracy Score: ', accuracy)\n",
    "print('F1-Score: ', f1)\n",
    "print('Confusion Matrix:\\n', confusion)"
   ]
  },
  {
   "cell_type": "code",
   "execution_count": 80,
   "id": "32153d0d-0d0f-4ff5-a64f-aedacb0d31a6",
   "metadata": {},
   "outputs": [],
   "source": [
    "#-----------------------------------------------------------------------------------"
   ]
  },
  {
   "cell_type": "markdown",
   "id": "beca6ef2-5d11-420c-92d9-da3d80f59cd0",
   "metadata": {},
   "source": [
    "## Tüm Modellerin Karşılaştırılması"
   ]
  },
  {
   "cell_type": "code",
   "execution_count": 84,
   "id": "75c72283-f230-4dd8-b66d-4e269b68ccde",
   "metadata": {},
   "outputs": [
    {
     "name": "stdout",
     "output_type": "stream",
     "text": [
      "LogisticRegression:  Accuracy Score:0.51,     F1-Score:0.6474820143884893\n",
      "DecisionTreeClassifier:  Accuracy Score:0.51,     F1-Score:0.5882352941176471\n",
      "RandomForestClassifier:  Accuracy Score:0.54,     F1-Score:0.6229508196721312\n",
      "GradientBoostingClassifier:  Accuracy Score:0.54,     F1-Score:0.6229508196721312\n",
      "XGBClassifier:  Accuracy Score:0.54,     F1-Score:0.6229508196721312\n",
      "LGBMClassifier:  Accuracy Score:0.54,     F1-Score:0.6229508196721312\n",
      "CatBoostClassifier:  Accuracy Score:0.54,     F1-Score:0.6229508196721312\n"
     ]
    }
   ],
   "source": [
    "models = [\n",
    "    lr_model,\n",
    "    cart_model,\n",
    "    rf_model,\n",
    "    gbm_model,\n",
    "    xgb_model,\n",
    "    lgbm_model,\n",
    "    cb_model\n",
    "]\n",
    "\n",
    "for model in models:\n",
    "    model_name = model.__class__.__name__\n",
    "    model_pred = model.predict(X_test)\n",
    "    accuracy = accuracy_score(y_test, model_pred)\n",
    "    f1 = f1_score(y_test, model_pred)\n",
    "    print(f'{model_name}:  Accuracy Score:{accuracy},     F1-Score:{f1}')"
   ]
  }
 ],
 "metadata": {
  "kernelspec": {
   "display_name": "Python 3 (ipykernel)",
   "language": "python",
   "name": "python3"
  },
  "language_info": {
   "codemirror_mode": {
    "name": "ipython",
    "version": 3
   },
   "file_extension": ".py",
   "mimetype": "text/x-python",
   "name": "python",
   "nbconvert_exporter": "python",
   "pygments_lexer": "ipython3",
   "version": "3.9.12"
  }
 },
 "nbformat": 4,
 "nbformat_minor": 5
}
